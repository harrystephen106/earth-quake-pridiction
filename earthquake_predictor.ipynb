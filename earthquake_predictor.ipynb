{
 "cells": [
  {
   "cell_type": "code",
   "execution_count": 14,
   "id": "4953e43a-45d6-4d74-b8c8-ce03511f0767",
   "metadata": {},
   "outputs": [
    {
     "ename": "SyntaxError",
     "evalue": "invalid syntax (1853314613.py, line 19)",
     "output_type": "error",
     "traceback": [
      "\u001b[1;36m  Cell \u001b[1;32mIn[14], line 19\u001b[1;36m\u001b[0m\n\u001b[1;33m    Data = data[[\"Date\", \"Time\", \"Latitude\", \"Longitude\",\u001b[0m\n\u001b[1;37m    ^\u001b[0m\n\u001b[1;31mSyntaxError\u001b[0m\u001b[1;31m:\u001b[0m invalid syntax\n"
     ]
    }
   ],
   "source": [
    "import numpy as np\n",
    "import pandas as pd\n",
    "import matplotlib.pyplot as plt\n",
    "data = pd.read_csv(\"database.csv\")\n",
    "data.columnsIndex([\"Date\", \"Time\", \"Latitude\", \"Longitude\", \"Type\",\n",
    "\"Depth\", \"Depth Error\",\n",
    " \"Depth Seismic Stations\", \"Magnitude\", \"MagnitudeType\",\n",
    " \"Magnitude Error\", \"Magnitude Seismic Stations\",\n",
    "\"Azimuthal Gap\",\n",
    " \"Horizontal Distance\", \"Horizontal Error\", \"Root MeanSquare\", \"ID\",\n",
    " \"Source\", \"Location Source\", \"Magnitude Source\",\n",
    "\"Status\"],\n",
    " Dtype=\"object\"\n",
    " #Now let’s see the main characteristics of earthquake\n",
    "#data and create an object of these characteristics,\n",
    "#namely, date, time, latitude, longitude, depth,\n",
    "#magnitude:\n",
    "\n",
    "Data = data[[\"Date\", \"Time\", \"Latitude\", \"Longitude\",\n",
    "\"Depth\", \"Magnitude\"]]\n",
    " Data.head()\n",
    "import\n",
    "datetime\n",
    "import time\n",
    "timestamp = []\n",
    "for d, t in zip(data['Date'], data['Time']):\n",
    " try:\n",
    " ts = datetime.datetime.strptime(d+' '+t,\n",
    "'%m/%d/%Y %H:%M:%S')\n",
    "    timestamp.append(time.mktime(ts.timetuple()))\n",
    " except ValueError:\n",
    " # print('ValueError')\n",
    " timestamp.append(\"ValueError\")\n",
    "timeStamp = pd.Series(timestamp)\n",
    "data[\"Timestamp\"] = timeStamp.values\n",
    "final_data = data.drop(['Date', 'Time'], axis=1)\n",
    "final_data = final_data[final_data.Timestamp !=\n",
    "\"ValueError\"]\n",
    "final_data.head()\n",
    "from mpl_toolkits.basemap import Basemap\n",
    "m = Basemap(projection='mill',llcrnrlat=-80,urcrnrlat=80, llcrnrlon=180,urcrnrlon=180,lat_ts=20,resolution='c')\n",
    "longitudes = data[\"Longitude\"].tolist()\n",
    "latitudes = data[\"Latitude\"].tolist()\n",
    "#m = Basemap(width=12000000,height=9000000,projection='lcc',\n",
    " #resolution=None,lat_1=80.,lat_2=55,lat_0=80,lon_0=-107.)\n",
    "x,y = m(longitudes,latitudes)\n",
    "fig = plt.figure(figsize=(12,10))\n",
    "plt.title(\"All affected areas\")\n",
    "m.plot(x, y, \"o\", markersize = 2, color = 'blue')\n",
    "m.drawcoastlines()\n",
    "m.fillcontinents(color='coral',lake_color='aqua')\n",
    "m.drawmapboundary()\n",
    "m.drawcountries()\n",
    "plt.show()\n",
    "X = final_data[[\"Timestamp\", \"Latitude\", \"Longitude\"]]\n",
    "y = final_data[[\"Magnitude\", \"Depth\"]]\n",
    "from sklearn.cross_validation import train_test_split\n",
    "X_train, X_test, y_train, y_test = train_test_split(X, y, test_size=0.2,\n",
    "random_state=42)\n",
    "print(X_train.shape, X_test.shape, y_train)\n",
    "\n"
   ]
  },
  {
   "cell_type": "code",
   "execution_count": null,
   "id": "83486cbb-ee7c-46d6-805e-395155ae70ff",
   "metadata": {},
   "outputs": [],
   "source": []
  }
 ],
 "metadata": {
  "kernelspec": {
   "display_name": "Python 3 (ipykernel)",
   "language": "python",
   "name": "python3"
  },
  "language_info": {
   "codemirror_mode": {
    "name": "ipython",
    "version": 3
   },
   "file_extension": ".py",
   "mimetype": "text/x-python",
   "name": "python",
   "nbconvert_exporter": "python",
   "pygments_lexer": "ipython3",
   "version": "3.9.2"
  }
 },
 "nbformat": 4,
 "nbformat_minor": 5
}
